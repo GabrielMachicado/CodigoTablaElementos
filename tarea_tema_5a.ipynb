{
 "cells": [
  {
   "cell_type": "code",
   "execution_count": 1,
   "id": "026c69ac-35f0-4ff4-9125-d842f03711e6",
   "metadata": {},
   "outputs": [
    {
     "name": "stdout",
     "output_type": "stream",
     "text": [
      "Requirement already satisfied: pubchempy in d:\\anaconda1\\lib\\site-packages (1.0.4)Note: you may need to restart the kernel to use updated packages.\n",
      "\n"
     ]
    }
   ],
   "source": [
    "pip install pubchempy"
   ]
  },
  {
   "cell_type": "code",
   "execution_count": 2,
   "id": "b82002f9-2f94-46ff-b39d-0b470a85e9d0",
   "metadata": {},
   "outputs": [
    {
     "name": "stdout",
     "output_type": "stream",
     "text": [
      "Requirement already satisfied: rdkit in d:\\anaconda1\\lib\\site-packages (2025.3.2)\n",
      "Requirement already satisfied: numpy in d:\\anaconda1\\lib\\site-packages (from rdkit) (1.26.4)\n",
      "Requirement already satisfied: Pillow in d:\\anaconda1\\lib\\site-packages (from rdkit) (10.4.0)\n",
      "Note: you may need to restart the kernel to use updated packages.\n"
     ]
    }
   ],
   "source": [
    "pip install rdkit"
   ]
  },
  {
   "cell_type": "code",
   "execution_count": 2,
   "id": "3e74a055-d66c-4ec7-8e95-510ca7c30142",
   "metadata": {},
   "outputs": [
    {
     "name": "stdout",
     "output_type": "stream",
     "text": [
      "Cálculo de masa en gramos de un compuesto A presente en un compuesto B\n"
     ]
    },
    {
     "name": "stdin",
     "output_type": "stream",
     "text": [
      "Introduce la fórmula del compuesto A:  K\n"
     ]
    },
    {
     "name": "stdout",
     "output_type": "stream",
     "text": [
      "Masa molecular exacta de K: 38.9632 g/mol\n"
     ]
    },
    {
     "name": "stdin",
     "output_type": "stream",
     "text": [
      "Introduce la fórmula del compuesto B:  KCl\n"
     ]
    },
    {
     "name": "stdout",
     "output_type": "stream",
     "text": [
      "Masa molecular exacta de KCl: 73.9326 g/mol\n"
     ]
    },
    {
     "name": "stdin",
     "output_type": "stream",
     "text": [
      "Introduce la masa de KCl en gramos:  25\n"
     ]
    },
    {
     "name": "stdout",
     "output_type": "stream",
     "text": [
      "\n",
      "Masa de K presente en 25.0 g de KCl: 13.18 g\n"
     ]
    }
   ],
   "source": [
    "import pubchempy as pcp\n",
    "from rdkit import Chem\n",
    "from rdkit.Chem import rdMolDescriptors\n",
    "\n",
    "def obtener_masa_y_elementos(smiles):\n",
    "    mol = Chem.MolFromSmiles(smiles)\n",
    "    masa = rdMolDescriptors.CalcExactMolWt(mol)\n",
    "    elementos = {}\n",
    "    for atom in mol.GetAtoms():\n",
    "        simbolo = atom.GetSymbol()\n",
    "        elementos[simbolo] = elementos.get(simbolo, 0) + 1\n",
    "    return masa, elementos\n",
    "\n",
    "def main():\n",
    "    print(\"Cálculo de masa en gramos de un compuesto A presente en un compuesto B\")\n",
    "\n",
    "    # ---------- Compuesto A ----------\n",
    "    A = input(\"Introduce la fórmula del compuesto A: \")\n",
    "    compuesto_A = pcp.get_compounds(A, \"formula\")\n",
    "    if not compuesto_A:\n",
    "        print(f\"No se encontró el compuesto A: {A}\")\n",
    "        return\n",
    "\n",
    "    smiles_A = compuesto_A[0].isomeric_smiles\n",
    "    masa_A, elementos_A = obtener_masa_y_elementos(smiles_A)\n",
    "    print(f\"Masa molecular exacta de {A}: {masa_A:.4f} g/mol\")\n",
    "\n",
    "    # ---------- Compuesto B ----------\n",
    "    B = input(\"Introduce la fórmula del compuesto B: \")\n",
    "    compuesto_B = pcp.get_compounds(B, \"formula\")\n",
    "    if not compuesto_B:\n",
    "        print(f\"No se encontró el compuesto B: {B}\")\n",
    "        return\n",
    "\n",
    "    smiles_B = compuesto_B[0].isomeric_smiles\n",
    "    masa_B, elementos_B = obtener_masa_y_elementos(smiles_B)\n",
    "    print(f\"Masa molecular exacta de {B}: {masa_B:.4f} g/mol\")\n",
    "\n",
    "    # ---------- Verificar que todos los elementos de A están en B ----------\n",
    "    for elemento in elementos_A:\n",
    "        if elemento not in elementos_B:\n",
    "            print(f\"⚠️ El elemento {elemento} no se encuentra en {B}. No se puede continuar.\")\n",
    "            return\n",
    "\n",
    "    # ---------- Calcular relación estequiométrica ----------\n",
    "    min_ratio = float('inf')\n",
    "    for elemento, cantidad_A in elementos_A.items():\n",
    "        cantidad_B = elementos_B[elemento]\n",
    "        ratio = cantidad_B / cantidad_A\n",
    "        min_ratio = min(min_ratio, ratio)\n",
    "\n",
    "    # ---------- Cálculo de masa ----------\n",
    "    try:\n",
    "        masa_total_B = float(input(f\"Introduce la masa de {B} en gramos: \"))\n",
    "    except ValueError:\n",
    "        print(\"Entrada inválida para masa.\")\n",
    "        return\n",
    "\n",
    "    moles_B = masa_total_B / masa_B\n",
    "    moles_A = moles_B * min_ratio\n",
    "    masa_total_A = moles_A * masa_A\n",
    "\n",
    "    print(f\"\\nMasa de {A} presente en {masa_total_B} g de {B}: {masa_total_A:.2f} g\")\n",
    "\n",
    "# Ejecutar\n",
    "main()"
   ]
  },
  {
   "cell_type": "code",
   "execution_count": null,
   "id": "ba619eb6-580e-4909-a936-96a7bc5cdb95",
   "metadata": {},
   "outputs": [],
   "source": []
  }
 ],
 "metadata": {
  "kernelspec": {
   "display_name": "Python [conda env:base] *",
   "language": "python",
   "name": "conda-base-py"
  },
  "language_info": {
   "codemirror_mode": {
    "name": "ipython",
    "version": 3
   },
   "file_extension": ".py",
   "mimetype": "text/x-python",
   "name": "python",
   "nbconvert_exporter": "python",
   "pygments_lexer": "ipython3",
   "version": "3.12.7"
  }
 },
 "nbformat": 4,
 "nbformat_minor": 5
}
